{
 "cells": [
  {
   "cell_type": "markdown",
   "metadata": {},
   "source": [
    "# 总结和未来学习"
   ]
  },
  {
   "cell_type": "markdown",
   "metadata": {},
   "source": [
    "0. 机器学习应用的四步骤： a. 选择模型类；b. 选择模型超参数；c. 用模型拟合训练数据；d. 用模型预测新数据的标签。\n",
    "1. 机器学习中最重要是既不要欠拟合，也不要过拟合。这需要我们选择一个复杂度适中的模型。最终我们要在验证集上验证预测准确性；如果更严格些，把数据集分为：训练集、验证集、测试集三个子集，在验证集上调参（如GridSearch），最终在测试集上最后测一遍，当做最终的测试结果。此外，如果细分，还有正确率、召回率等指标。\n",
    "2. 合适的模型（用验证曲线来衡量）、合适的特征、以及适当大小的数据集（用学习曲线来衡量）是成功的机器学习工程需考虑的三要素。\n",
    "3. sklearn官网上有对每个模型及其调参更详细的说明：https://scikit-learn.org/\n",
    "4. 除了《Python数据科学手册》是学习机器学习很好的入门书以外，《机器学习实战:基于Scikit-Learn和TensorFlow 》对原理和模型参数讲得更细一点，如需应用深度学习，请参考《Python深度学习》。\n",
    "5. 复杂模型的可解释性比较弱，可解释性可以参考：https://www.kaggle.com/learn/machine-learning-explainability"
   ]
  },
  {
   "cell_type": "code",
   "execution_count": null,
   "metadata": {},
   "outputs": [],
   "source": []
  }
 ],
 "metadata": {
  "kernelspec": {
   "display_name": "Python 3",
   "language": "python",
   "name": "python3"
  },
  "language_info": {
   "codemirror_mode": {
    "name": "ipython",
    "version": 3
   },
   "file_extension": ".py",
   "mimetype": "text/x-python",
   "name": "python",
   "nbconvert_exporter": "python",
   "pygments_lexer": "ipython3",
   "version": "3.6.2"
  }
 },
 "nbformat": 4,
 "nbformat_minor": 2
}
