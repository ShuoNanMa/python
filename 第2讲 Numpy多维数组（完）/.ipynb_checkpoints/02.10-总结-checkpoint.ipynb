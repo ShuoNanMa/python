{
 "cells": [
  {
   "cell_type": "markdown",
   "metadata": {},
   "source": [
    "1. Numpy提供了向量化操作，不仅程序比普通的循环做短小，而且能够高效运行。\n",
    "2. 向量化运算在通用函数、广播中介绍。\n",
    "3. 比较、掩码和布尔逻辑用于方便地筛选出符合要求的数据，结合聚合函数，可以对数据进行初步统计。\n",
    "4. 在聚合函数中，使用numpy的聚合函数（如np.sum）比Python内置的聚合函数（如sum）运行速度要快。\n",
    "5. 我们要习惯高维的思考方式，这对于机器学习里的数据准备很有帮助。"
   ]
  }
 ],
 "metadata": {
  "kernelspec": {
   "display_name": "Python 3",
   "language": "python",
   "name": "python3"
  },
  "language_info": {
   "codemirror_mode": {
    "name": "ipython",
    "version": 3
   },
   "file_extension": ".py",
   "mimetype": "text/x-python",
   "name": "python",
   "nbconvert_exporter": "python",
   "pygments_lexer": "ipython3",
   "version": "3.6.2"
  }
 },
 "nbformat": 4,
 "nbformat_minor": 2
}
