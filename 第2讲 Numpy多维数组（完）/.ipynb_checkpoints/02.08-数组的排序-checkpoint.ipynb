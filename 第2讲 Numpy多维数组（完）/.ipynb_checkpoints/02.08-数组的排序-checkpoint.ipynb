{
 "cells": [
  {
   "cell_type": "markdown",
   "metadata": {},
   "source": [
    "<!--NAVIGATION-->\n",
    "< [Fancy Indexing](02.07-Fancy-Indexing.ipynb) | [Contents](Index.ipynb) | [Structured Data: NumPy's Structured Arrays](02.09-Structured-Data-NumPy.ipynb) >"
   ]
  },
  {
   "cell_type": "markdown",
   "metadata": {},
   "source": [
    "# 数组的排序"
   ]
  },
  {
   "cell_type": "markdown",
   "metadata": {},
   "source": [
    "这一节将介绍用于排序NumPy数组的相关算法，这些算法是计算机科学导论课程非常偏爱的话题，如：**插入排序、选择排序、归并排序、快速排序、冒泡排序**等。所有这些方法都是为了实现一个类似的任务：对一个列表或数组进行**排序**。\n",
    "\n",
    "（*以下是两个实现排序的小例子，感兴趣者可以自己钻研。但这里表明了一件事：它们的效率低，我们应采用python自带的高效的sort方法。*）\n",
    "例如，一个简单的选择排序重复寻找列表中的最小值，并且不断交换直到列表是有序的。可以在 Python 中仅用几行代码来实现："
   ]
  },
  {
   "cell_type": "code",
   "execution_count": 1,
   "metadata": {},
   "outputs": [],
   "source": [
    "import numpy as np\n",
    "\n",
    "def selection_sort(x):\n",
    "    for i in range(len(x)):\n",
    "        swap = i + np.argmin(x[i:]) #numpy.argmin表示最小值在数组中所在的位置\n",
    "        # swap巧妙的获得了第i次循环中x[i:]中最小值在整个数组中所在的位置\n",
    "        (x[i], x[swap]) = (x[swap], x[i]) #交换位置\n",
    "    return x"
   ]
  },
  {
   "cell_type": "code",
   "execution_count": 2,
   "metadata": {},
   "outputs": [
    {
     "data": {
      "text/plain": [
       "array([1, 2, 3, 4, 5])"
      ]
     },
     "execution_count": 2,
     "metadata": {},
     "output_type": "execute_result"
    }
   ],
   "source": [
    "x = np.array([2, 1, 4, 3, 5])\n",
    "selection_sort(x)"
   ]
  },
  {
   "cell_type": "markdown",
   "metadata": {},
   "source": [
    "选择排序因为其**简洁**而非常有用，但是它对于大数组来说**太慢了**。对于一个包含$N$个值的数组来说，它需要做$\\sim N$个循环，每个循环中执行$N$ 次比较，以找到交换值。\n",
    "\n",
    "“大 O 标记”（big-O）常用来标示算法的复杂度，选择排序的平均算法复杂度为$\\mathcal{O}[N^2]$：也就是说，如果你将一个列表中元素的个数翻倍，那么运行时间就会延长 4 倍。\n",
    "\n",
    "下面请看*bogosort*排序算法："
   ]
  },
  {
   "cell_type": "code",
   "execution_count": 3,
   "metadata": {},
   "outputs": [],
   "source": [
    "def bogosort(x):\n",
    "    while np.any(x[:-1] > x[1:]):#此处意在比较x的前一个元素是否大于后一个元素\n",
    "        np.random.shuffle(x) #numpy.random,shuffle(x)是进行原地洗牌（重新排列x里面的元素），会改变x的值，而无返回值。\n",
    "    return x"
   ]
  },
  {
   "cell_type": "code",
   "execution_count": 25,
   "metadata": {},
   "outputs": [
    {
     "data": {
      "text/plain": [
       "array([1, 2, 3, 4, 5])"
      ]
     },
     "execution_count": 25,
     "metadata": {},
     "output_type": "execute_result"
    }
   ],
   "source": [
    "x = np.array([2, 1, 4, 3, 5])\n",
    "bogosort(x)"
   ]
  },
  {
   "cell_type": "markdown",
   "metadata": {},
   "source": [
    "\n",
    "这个很傻的算法的实现完全靠运气：它不断对数组元素进行随机重排，直到恰巧碰到有序数组才停止。这个算法的复杂度为$\\mathcal{O}[N \\times N!]$（*N* 乘以*N* 的阶乘）。很明显，这种方法是永远不会用于任何实际运算场景的。\n",
    "\n",
    "幸运的是，Python包含的很多内置排序算法都比上面例子中的算法**高效**得多。首先介绍Python的内置排序算法，然后介绍NumPy中的排序算法和优化过的NumPy数组排序算法。"
   ]
  },
  {
   "cell_type": "markdown",
   "metadata": {},
   "source": [
    "## NumPy中的快速排序： ``np.sort`` 和``np.argsort``\n",
    "\n",
    "尽管Python有内置的``sort``和``sorted``函数可以对列表进行排序，但是这里不会介绍这两个函数，因为NumPy的np.sort函数实际上效率更高。\n",
    "\n",
    "**默认情况下，``np.sort``的排序算法是*快速排序*，其算法复杂度为 $\\mathcal{O}[N\\log N]$**，另外也可以选择*归并排序*和*堆排序*。对于大多数应用场景，默认的快速排序已经足够高效了。\n",
    "\n",
    "如果想**在不修改原始输入数组的基础**上返回一个排好序的数组，可以使用``np.sort``："
   ]
  },
  {
   "cell_type": "code",
   "execution_count": 5,
   "metadata": {},
   "outputs": [
    {
     "data": {
      "text/plain": [
       "array([1, 2, 3, 4, 5])"
      ]
     },
     "execution_count": 5,
     "metadata": {},
     "output_type": "execute_result"
    }
   ],
   "source": [
    "x = np.array([2, 1, 4, 3, 5])\n",
    "np.sort(x)"
   ]
  },
  {
   "cell_type": "markdown",
   "metadata": {},
   "source": [
    "如果希望用**排好序的数组替代原始数组**，可以使用数组的``sort``方法："
   ]
  },
  {
   "cell_type": "code",
   "execution_count": 6,
   "metadata": {},
   "outputs": [
    {
     "name": "stdout",
     "output_type": "stream",
     "text": [
      "[1 2 3 4 5]\n"
     ]
    }
   ],
   "source": [
    "x.sort()\n",
    "print(x)"
   ]
  },
  {
   "cell_type": "markdown",
   "metadata": {},
   "source": [
    "另外一个相关的函数是``argsort``，该函数返回的是原始数组排好序的**索引值**："
   ]
  },
  {
   "cell_type": "code",
   "execution_count": 7,
   "metadata": {},
   "outputs": [
    {
     "name": "stdout",
     "output_type": "stream",
     "text": [
      "[1 0 3 2 4]\n"
     ]
    }
   ],
   "source": [
    "x = np.array([2, 1, 4, 3, 5])\n",
    "i = np.argsort(x)\n",
    "print(i)"
   ]
  },
  {
   "cell_type": "markdown",
   "metadata": {},
   "source": [
    "以上结果的第一个元素是数组中最小元素的索引值，第二个值给出的是次小元素的索引值，以此类推。这些索引值可以被用于（通过花哨的索引）创建有序的数组："
   ]
  },
  {
   "cell_type": "code",
   "execution_count": 8,
   "metadata": {},
   "outputs": [
    {
     "data": {
      "text/plain": [
       "array([1, 2, 3, 4, 5])"
      ]
     },
     "execution_count": 8,
     "metadata": {},
     "output_type": "execute_result"
    }
   ],
   "source": [
    "x[i]"
   ]
  },
  {
   "cell_type": "markdown",
   "metadata": {},
   "source": [
    "### 沿着行或列排序"
   ]
  },
  {
   "cell_type": "markdown",
   "metadata": {},
   "source": [
    "NumPy排序算法的一个有用的功能是通过``axis``参数，沿着多维数组的行或列进行排序，例如："
   ]
  },
  {
   "cell_type": "code",
   "execution_count": 9,
   "metadata": {},
   "outputs": [
    {
     "name": "stdout",
     "output_type": "stream",
     "text": [
      "[[6 3 7 4 6 9]\n",
      " [2 6 7 4 3 7]\n",
      " [7 2 5 4 1 7]\n",
      " [5 1 4 0 9 5]]\n"
     ]
    }
   ],
   "source": [
    "rand = np.random.RandomState(42)\n",
    "X = rand.randint(0, 10, (4, 6))\n",
    "print(X)"
   ]
  },
  {
   "cell_type": "code",
   "execution_count": 10,
   "metadata": {},
   "outputs": [
    {
     "data": {
      "text/plain": [
       "array([[2, 1, 4, 0, 1, 5],\n",
       "       [5, 2, 5, 4, 3, 7],\n",
       "       [6, 3, 7, 4, 6, 7],\n",
       "       [7, 6, 7, 4, 9, 9]])"
      ]
     },
     "execution_count": 10,
     "metadata": {},
     "output_type": "execute_result"
    }
   ],
   "source": [
    "# 对X的每一列排序\n",
    "np.sort(X, axis=0)#axis=0 表示行不动 对列排序"
   ]
  },
  {
   "cell_type": "code",
   "execution_count": 11,
   "metadata": {},
   "outputs": [
    {
     "data": {
      "text/plain": [
       "array([[3, 4, 6, 6, 7, 9],\n",
       "       [2, 3, 4, 6, 7, 7],\n",
       "       [1, 2, 4, 5, 7, 7],\n",
       "       [0, 1, 4, 5, 5, 9]])"
      ]
     },
     "execution_count": 11,
     "metadata": {},
     "output_type": "execute_result"
    }
   ],
   "source": [
    "# 对X每一行排序\n",
    "np.sort(X, axis=1)"
   ]
  },
  {
   "cell_type": "markdown",
   "metadata": {},
   "source": [
    "需要记住的是，这种处理方式是将行或列当作独立的数组，任何行或列的值之间的关系将会丢失！"
   ]
  },
  {
   "cell_type": "markdown",
   "metadata": {},
   "source": [
    "## 示例： K个最近邻\n",
    "\n",
    "下例展示如何利用``argsort``函数**沿着多个轴快速找到集合中每个点的最近邻**。\n",
    "\n",
    "首先，在二维平面上创建一个有10个随机点的集合，将这些数据点放在一个$10\\times 2$的数组中："
   ]
  },
  {
   "cell_type": "code",
   "execution_count": 14,
   "metadata": {},
   "outputs": [],
   "source": [
    "#X = rand.rand(10, 2)\n",
    "X= np.array([[0.23089383, 0.24102547],\n",
    "       [0.68326352, 0.60999666],\n",
    "       [0.83319491, 0.17336465],\n",
    "       [0.39106061, 0.18223609],\n",
    "       [0.75536141, 0.42515587],\n",
    "       [0.20794166, 0.56770033],\n",
    "       [0.03131329, 0.84228477],\n",
    "       [0.44975413, 0.39515024],\n",
    "       [0.92665887, 0.727272  ],\n",
    "       [0.32654077, 0.57044397]])"
   ]
  },
  {
   "cell_type": "markdown",
   "metadata": {},
   "source": [
    "为了对这些点有直观的印象，画出它的散点图："
   ]
  },
  {
   "cell_type": "code",
   "execution_count": 15,
   "metadata": {},
   "outputs": [
    {
     "data": {
      "image/png": "[encoded data removed]",
      "text/plain": [
       "<matplotlib.figure.Figure at 0xdec7be0>"
      ]
     },
     "metadata": {},
     "output_type": "display_data"
    }
   ],
   "source": [
    "%matplotlib inline\n",
    "import matplotlib.pyplot as plt\n",
    "import seaborn; seaborn.set() #  设置画图风格\n",
    "plt.scatter(X[:, 0], X[:, 1], s=100);"
   ]
  },
  {
   "cell_type": "markdown",
   "metadata": {},
   "source": [
    "现在来计算两两数据点对之间的距离。我们学过两点间距离的平方等于每个维度的距离差的平方的和。\n",
    "\n",
    "利用NumPy的广播和聚合功能，可以用一行代码计算矩阵的平方距离："
   ]
  },
  {
   "cell_type": "code",
   "execution_count": 16,
   "metadata": {},
   "outputs": [],
   "source": [
    "dist_sq = np.sum((X[:, np.newaxis, :] - X[np.newaxis, :, :]) ** 2, axis=-1)"
   ]
  },
  {
   "cell_type": "markdown",
   "metadata": {},
   "source": [
    "这个操作由很多部分组成。如果你对NumPy的广播规则不熟悉的话，可能这行代码看起来有些令人困惑。\n",
    "\n",
    "当你遇到这种代码时，将其各组件分解后再分析是非常有用的："
   ]
  },
  {
   "cell_type": "code",
   "execution_count": 17,
   "metadata": {},
   "outputs": [
    {
     "data": {
      "text/plain": [
       "(10, 10, 2)"
      ]
     },
     "execution_count": 17,
     "metadata": {},
     "output_type": "execute_result"
    }
   ],
   "source": [
    "# 在坐标系中计算每对点的差值\n",
    "differences = X[:, np.newaxis, :] - X[np.newaxis, :, :] #在这里，np.newaxis其实很好理解，就是插入一个新的维度\n",
    "differences.shape\n",
    "#differences"
   ]
  },
  {
   "cell_type": "code",
   "execution_count": 18,
   "metadata": {},
   "outputs": [
    {
     "data": {
      "text/plain": [
       "(10, 10, 2)"
      ]
     },
     "execution_count": 18,
     "metadata": {},
     "output_type": "execute_result"
    }
   ],
   "source": [
    "# 求出差值的平方\n",
    "sq_differences = differences ** 2\n",
    "sq_differences.shape\n",
    "#sq_differences"
   ]
  },
  {
   "cell_type": "code",
   "execution_count": 19,
   "metadata": {},
   "outputs": [
    {
     "data": {
      "text/plain": [
       "(10, 10)"
      ]
     },
     "execution_count": 19,
     "metadata": {},
     "output_type": "execute_result"
    }
   ],
   "source": [
    "# 将差值求和获得平方距离\n",
    "dist_sq = sq_differences.sum(-1) #在本例中，sum(-1)等同于sum（2），指对数组的倒数第一维，或者说第三维度进行求和。\n",
    "dist_sq.shape\n",
    "#dist_sq"
   ]
  },
  {
   "cell_type": "markdown",
   "metadata": {},
   "source": [
    "请再次确认以上步骤，应该看到该矩阵的对角线（也就是每个点到其自身的距离）的值都是 0："
   ]
  },
  {
   "cell_type": "code",
   "execution_count": 20,
   "metadata": {},
   "outputs": [
    {
     "data": {
      "text/plain": [
       "array([0., 0., 0., 0., 0., 0., 0., 0., 0., 0.])"
      ]
     },
     "execution_count": 20,
     "metadata": {},
     "output_type": "execute_result"
    }
   ],
   "source": [
    "dist_sq.diagonal() #diagonal就是对角线的英文单词"
   ]
  },
  {
   "cell_type": "markdown",
   "metadata": {},
   "source": [
    "当我们有了这样一个转化为两点间的平方距离的矩阵后，就可以使用``np.argsort``函数沿着每行进行排序了。最左边的列给出的索引值就是最近邻："
   ]
  },
  {
   "cell_type": "code",
   "execution_count": 21,
   "metadata": {
    "scrolled": true
   },
   "outputs": [
    {
     "name": "stdout",
     "output_type": "stream",
     "text": [
      "[[0 3 7 5 9 4 1 2 6 8]\n",
      " [1 4 8 7 9 2 5 3 0 6]\n",
      " [2 4 3 7 1 8 0 9 5 6]\n",
      " [3 0 7 9 5 4 2 1 6 8]\n",
      " [4 1 2 7 8 3 9 0 5 6]\n",
      " [5 9 7 6 0 3 1 4 8 2]\n",
      " [6 5 9 7 0 1 3 4 8 2]\n",
      " [7 9 3 0 5 4 1 2 8 6]\n",
      " [8 1 4 2 7 9 5 3 0 6]\n",
      " [9 5 7 0 1 3 6 4 8 2]]\n"
     ]
    }
   ],
   "source": [
    "nearest = np.argsort(dist_sq, axis=1)\n",
    "print(nearest)"
   ]
  },
  {
   "cell_type": "markdown",
   "metadata": {},
   "source": [
    "注意：第一列是按 0~9 从小到大排列的。因为每个点的最近邻是其自身。\n",
    "\n",
    "如果我们仅仅关心k个最近邻，那么唯一需要做的是使这样最小的k+1的平方距离将排在最前面，其他更长的距离占据矩阵该行的其他位置。可以用``np.argpartition``函数实现："
   ]
  },
  {
   "cell_type": "code",
   "execution_count": 22,
   "metadata": {},
   "outputs": [],
   "source": [
    "K = 2\n",
    "nearest_partition = np.argpartition(dist_sq, K + 1, axis=1)"
   ]
  },
  {
   "cell_type": "markdown",
   "metadata": {},
   "source": [
    "为了将邻节点网络可视化，我们将每个点和其最近的两个最近邻连接："
   ]
  },
  {
   "cell_type": "code",
   "execution_count": 23,
   "metadata": {},
   "outputs": [
    {
     "data": {
      "image/png": "[encoded data removed]",
      "text/plain": [
       "<matplotlib.figure.Figure at 0x506d908>"
      ]
     },
     "metadata": {},
     "output_type": "display_data"
    }
   ],
   "source": [
    "plt.scatter(X[:, 0], X[:, 1], s=100)\n",
    "\n",
    "# 将每个点与它的两个最近邻连接 \n",
    "for i in range(X.shape[0]): #等价于for i in [0,9]\n",
    "    for j in nearest_partition[i, :3]: \n",
    "    # 画一条从X[i]到X[j]的线段 \n",
    "    # 用zip方法实现:*zip 是zip的逆操作，zip函数分别从a和b依次各取出一个元素组成元组\n",
    "    #举例在作图的下面\n",
    "        plt.plot(*zip(X[j], X[i]), color='black')"
   ]
  },
  {
   "cell_type": "code",
   "execution_count": 24,
   "metadata": {},
   "outputs": [
    {
     "name": "stdout",
     "output_type": "stream",
     "text": [
      "[(1, 3), (2, 4)]\n",
      "(1, 3) (2, 4)\n"
     ]
    }
   ],
   "source": [
    "a=[1,2]\n",
    "b=[3,4]\n",
    "print(list(zip(a, b)))\n",
    "print(*zip(a, b))"
   ]
  },
  {
   "cell_type": "markdown",
   "metadata": {},
   "source": [
    "图中每个点和离它最近的两个节点用连线连接。乍一看，你可能会奇怪为什么有些点的连线多于两条，这是因为点A是点B最邻近的两个节点之一，但是并不意味着**点B一定是点A的最邻近的两个节点之一**。\n",
    "\n",
    "尽管本例中的广播和按行排序可能看起来不如循环直观，但是在实际运行中，Python中这类数据的操作会更高效。"
   ]
  },
  {
   "cell_type": "markdown",
   "metadata": {},
   "source": [
    "## 大O标记（了解）\n",
    "\n",
    "大O标记是一种描述一个算法对于相应的输入数据的大小需要执行的操作步骤数。要想正确使用它，需要深入理解计算机科学理论，并且将其和小o标记、大$\\theta$标记、大$\\Omega$标记以及其他混合变体区分开。虽然区分这些概念可以提高算法复杂度计量的准确性，但是除了在计算机科学理论和学究的博客评论外，实际中很少有这种区分。在数据科学中，更常见的还是不太严谨的大O标记——一种通用的（或许是不准确的）算法复杂度的度量描述。在这里要向相关的理论学家和学者致歉，本书中都会使用这种表述方式。\n",
    "\n",
    "如果不用太严谨的眼光看待大O标记，那么它其实是告诉你：随着输入数据量的增长，你的算法将花费多少时间。如果你有一个$\\mathcal{O}[N]$（读作“$N$阶”）复杂度的算法，该算法花费1秒钟来执行一个长度为*N*=1000的列表，那么它执行一个长度为*N*=5000的列表花费的时间大约是5秒钟。如果你有一个算法复杂度为$\\mathcal{O}[N^2]$（读作“$N$N 的平方阶”），且该算法花费1秒钟来执行一个长度为*N*=1000的列表，那么它执行一个长度为*N*=5000的列表花费的时间大约是25秒钟。\n",
    "\n",
    "在计算算法复杂度时，*N*通常表示数据集的大小（数据点的个数、维度的数目等）。当我们试图分析数十亿或数百万亿的数据时，算法复杂度为$\\mathcal{O}[N]$和算法复杂度为$\\mathcal{O}[N^2]$会有非常明显的差别！\n",
    "\n",
    "需要注意的是，大O标记并没有告诉你计算的实际时间，而仅仅告诉你改变*N*的值时，运行时间的相应变化。通常情况下，$\\mathcal{O}[N]$复杂度的算法比$\\mathcal{O}[N^2]$复杂度的算法更高效。但是对于小数据集，算法复杂度更优的算法可能未必更快。例如对于给定的问题，$\\mathcal{O}[N^2]$复杂度的算法可能会花费0.01秒，而更“优异”的$\\mathcal{O}[N]$复杂度的算法可能会花费1 秒。按照1000的因子将*N*倍增，那么$\\mathcal{O}[N]$复杂度的算法将胜出。\n",
    "\n",
    "即使是这个非严格版本的大O标记对于比较算法的性能也是非常有用的。我们将在本书中用这个标记来测量算法复杂度。"
   ]
  },
  {
   "cell_type": "markdown",
   "metadata": {},
   "source": [
    "<!--NAVIGATION-->\n",
    "< [Fancy Indexing](02.07-Fancy-Indexing.ipynb) | [Contents](Index.ipynb) | [Structured Data: NumPy's Structured Arrays](02.09-Structured-Data-NumPy.ipynb) >"
   ]
  }
 ],
 "metadata": {
  "anaconda-cloud": {},
  "kernelspec": {
   "display_name": "Python 3",
   "language": "python",
   "name": "python3"
  },
  "language_info": {
   "codemirror_mode": {
    "name": "ipython",
    "version": 3
   },
   "file_extension": ".py",
   "mimetype": "text/x-python",
   "name": "python",
   "nbconvert_exporter": "python",
   "pygments_lexer": "ipython3",
   "version": "3.6.2"
  }
 },
 "nbformat": 4,
 "nbformat_minor": 1
}
