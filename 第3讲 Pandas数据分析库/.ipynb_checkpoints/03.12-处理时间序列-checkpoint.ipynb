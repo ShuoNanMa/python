{
 "cells": [
  {
   "cell_type": "markdown",
   "metadata": {},
   "source": [
    "<!--NAVIGATION-->\n",
    "< [Vectorized String Operations](03.10-Working-With-Strings.ipynb) | [Contents](Index.ipynb) | [High-Performance Pandas: eval() and query()](03.12-Performance-Eval-and-Query.ipynb) >"
   ]
  },
  {
   "cell_type": "markdown",
   "metadata": {},
   "source": [
    "# 3.10 处理时间序列"
   ]
  },
  {
   "cell_type": "markdown",
   "metadata": {},
   "source": [
    "由于Pandas最初是为金融模型而创建的，因此它拥有一些功能非常强大的日期、时间、带时间索引数据的处理工具。本节将介绍的日期与时间数据主要包含三类。\n",
    "\n",
    "- **时间戳**表示某个具体的时间点（例如2015年7月4日上午7点）。\n",
    "\n",
    "\n",
    "- **时间间隔**与**周期**表示开始时间点与结束时间点之间的时间长度，例如2015年（指的是2015年1月1日至2015年12月31日这段时间间隔)。周期通常是指一种特殊形式的时间间隔，每个间隔长度相同，彼此之间不会重叠（例如，以24小时为周期构成每一天）。\n",
    "\n",
    "\n",
    "- **时间增量（time delta）**或**持续时间（duration）**表示精确的时间长度（例如，某程序运行持续时间22.56秒）。\n",
    "\n",
    "在本节内容中，我们将介绍Pandas中的3种日期/时间数据类型的具体用法。由于篇幅有限，后文无法对Python或Pandas的时间序列工具进行详细的介绍，仅仅是通过一个宽泛的综述，总结何时应该使用它们。\n",
    "\n",
    "在开始介绍Pandas的时间序列工具之前，我们先简单介绍一下Python处理日期与时间数据的工具。在介绍完一些值得深入学习的资源之后，再通过一些简短的示例来演示Pandas处理时间序列数据的方法。"
   ]
  },
  {
   "cell_type": "markdown",
   "metadata": {},
   "source": [
    "## 3.10.1 比较Python原生、Numpy和Pandas的时间日期\n",
    "\n",
    "在Python标准库与第三方库中有许多可以表示日期、时间、时间增量和时间跨度（timespan）的工具。\n",
    "\n",
    "尽管Pandas提供的时间序列工具更适合用来处理数据科学问题，但是了解Pandas与Python标准库以及第三方库中的其他时间序列工具之间的**关联性**将大有裨益。"
   ]
  },
  {
   "cell_type": "markdown",
   "metadata": {},
   "source": [
    "### 1. 原生Python的日期与时间工具：``datetime``与``dateutil``\n",
    "\n",
    "Python基本的日期与时间功能都在标准库的``datetime``模块中。如果和第三方库``dateutil``模块搭配使用，可以快速实现许多处理日期与时间的功能。例如，你可以用``datetime``类型创建一个日期："
   ]
  },
  {
   "cell_type": "code",
   "execution_count": 41,
   "metadata": {},
   "outputs": [
    {
     "data": {
      "text/plain": [
       "datetime.datetime(2019, 10, 1, 0, 0)"
      ]
     },
     "execution_count": 41,
     "metadata": {},
     "output_type": "execute_result"
    }
   ],
   "source": [
    "from datetime import datetime\n",
    "date = datetime(year=2019, month=10, day=1)\n",
    "#from模块import* 是一种导入模块的方式。上式from datetime import datetime，表示调用datatime模块中的datatime函数，并且在今后的调用中，不需要在\n",
    "#前面加上datetime.(如果使用 import datetime,今后在调用时需要写成datetime.datetime的形式，对于此例来说，比较啰嗦)\n",
    "#请help(datetime)查看它的说明\n",
    "date"
   ]
  },
  {
   "cell_type": "markdown",
   "metadata": {},
   "source": [
    "或者使用``dateutil``模块对各种字符串格式的日期进行正确解析："
   ]
  },
  {
   "cell_type": "code",
   "execution_count": 42,
   "metadata": {},
   "outputs": [
    {
     "data": {
      "text/plain": [
       "datetime.datetime(2019, 10, 1, 0, 0)"
      ]
     },
     "execution_count": 42,
     "metadata": {},
     "output_type": "execute_result"
    }
   ],
   "source": [
    "from dateutil import parser\n",
    "date = parser.parse(\"Oct 1st, 2019\")\n",
    "#parser是dateutil模块主要的两个函数之一，表示根据字符串解析成datetime\n",
    "#dateutil.parser.parse：可以不用我们指定格式，直接将字符串转换为datetime格式，很好用\n",
    "date"
   ]
  },
  {
   "cell_type": "markdown",
   "metadata": {},
   "source": [
    "一旦有了``datetime``对象，就可以进行许多操作了，例如打印出这一天是星期几："
   ]
  },
  {
   "cell_type": "code",
   "execution_count": 43,
   "metadata": {},
   "outputs": [
    {
     "data": {
      "text/plain": [
       "'Tuesday'"
      ]
     },
     "execution_count": 43,
     "metadata": {},
     "output_type": "execute_result"
    }
   ],
   "source": [
    "date.strftime('%A')\n",
    "#Python的strftime()函数接收时间元组，并返回以可读字符串表示的当地时间。\n",
    "#\"%A\"表示python中时间日期格式化符号，当它出现时，表示要把时间转换成完整星期名称。"
   ]
  },
  {
   "cell_type": "markdown",
   "metadata": {},
   "source": [
    "还有一个值得关注的程序包是 pytz（http://pytz.sourceforge.net/） ，这个工具解决了绝大多数时间序列数据都会遇到的难题：时区。\n",
    "\n",
    "datetime和dateutil模块在**灵活性**与**易用性**方面都表现出色，你可以用这些对象及其相应的方法轻松完成你感兴趣的任意操作。但如果你处理的时间数据量比较大，那么速度就会**比较慢**。\n",
    "\n",
    "就像之前介绍过的Python的原生列表对象没有NumPy中已经被编码的数值类型数组的性能好一样，Python的原生日期对象同样也没有NumPy中已经被编码的日期（encoded dates）类型数组的性能好。"
   ]
  },
  {
   "cell_type": "markdown",
   "metadata": {},
   "source": [
    "### 2. NumPy的``datetime64``类型\n",
    "\n",
    "Python原生日期格式的性能弱点促使NumPy团队为NumPy增加了自己的时间序列类型。\n",
    "\n",
    "``datetime64``类型将日期编码为64位整数，这样可以让日期数组非常紧凑（节省内存）。**Numpy的``datetime64``需要在设置日期时确定具体的输入类型**："
   ]
  },
  {
   "cell_type": "code",
   "execution_count": 44,
   "metadata": {},
   "outputs": [
    {
     "data": {
      "text/plain": [
       "array('2019-10-01', dtype='datetime64[D]')"
      ]
     },
     "execution_count": 44,
     "metadata": {},
     "output_type": "execute_result"
    }
   ],
   "source": [
    "import numpy as np\n",
    "date = np.array('2019-10-01', dtype=np.datetime64)\n",
    "#试验发现：第一个参数是'2019-10-1'则报错\n",
    "#不要这样写：date = np.array('2019-10-01')，它创建一个字符串类型\n",
    "date"
   ]
  },
  {
   "cell_type": "markdown",
   "metadata": {},
   "source": [
    "但只要有了这个日期格式，就可以进行快速的**向量化运算**："
   ]
  },
  {
   "cell_type": "code",
   "execution_count": 45,
   "metadata": {},
   "outputs": [
    {
     "data": {
      "text/plain": [
       "array(['2019-10-01', '2019-10-02', '2019-10-03', '2019-10-04',\n",
       "       '2019-10-05', '2019-10-06', '2019-10-07'], dtype='datetime64[D]')"
      ]
     },
     "execution_count": 45,
     "metadata": {},
     "output_type": "execute_result"
    }
   ],
   "source": [
    "date + np.arange(7)#国庆七天长假的日期数组，这里用到了广播"
   ]
  },
  {
   "cell_type": "markdown",
   "metadata": {},
   "source": [
    "或者"
   ]
  },
  {
   "cell_type": "code",
   "execution_count": 46,
   "metadata": {},
   "outputs": [
    {
     "data": {
      "text/plain": [
       "array(['2019-10-01', '2019-10-02', '2019-10-03', '2019-10-04',\n",
       "       '2019-10-05', '2019-10-06', '2019-10-07'], dtype='datetime64[D]')"
      ]
     },
     "execution_count": 46,
     "metadata": {},
     "output_type": "execute_result"
    }
   ],
   "source": [
    "dates = np.arange('2019-10-01', '2019-10-08', dtype=np.datetime64)\n",
    "dates"
   ]
  },
  {
   "cell_type": "markdown",
   "metadata": {},
   "source": [
    "再看一个返回值类型为timedelta64（64位时间增量）的例子："
   ]
  },
  {
   "cell_type": "code",
   "execution_count": 47,
   "metadata": {},
   "outputs": [
    {
     "data": {
      "text/plain": [
       "numpy.timedelta64(7,'D')"
      ]
     },
     "execution_count": 47,
     "metadata": {},
     "output_type": "execute_result"
    }
   ],
   "source": [
    "num_days = np.datetime64('2019-10-08') - np.datetime64('2019-10-01')\n",
    "num_days"
   ]
  },
  {
   "cell_type": "code",
   "execution_count": 48,
   "metadata": {},
   "outputs": [
    {
     "data": {
      "text/plain": [
       "numpy.datetime64('2019-10-01T12','h')"
      ]
     },
     "execution_count": 48,
     "metadata": {},
     "output_type": "execute_result"
    }
   ],
   "source": [
    "date + np.timedelta64(12, 'h')"
   ]
  },
  {
   "cell_type": "markdown",
   "metadata": {},
   "source": [
    "因为NumPy的``datetime64``数组内元素的类型是统一的，所以这种数组的运算速度会比Python的``datetime``对象的运算速度快很多，尤其是在处理较大数组时（关于向量化运算的内容已经在2.3节介绍过）。\n",
    "\n",
    "``datetime64``与``timedelta64``对象的一个共同特点是，它们都是在**基本时间单位（fundamental time unit）**的基础上建立的。由于``datetime64``对象是 64位精度，所以可编码的时间范围可以是基本单元的$2^{64}$倍。也就是说，``datetime64``在**时间精度（time resolution）**与**最大时间跨度（maximum time span）**之间达成了一种平衡。\n",
    "\n",
    "比如：你想要一个时间纳秒（nanosecond， ns）级的时间精度，那么你就可以将时间编码到0~$2^{64}$纳秒。因为使用的是纳秒单位，所以，时间跨度是0到$2^{64}/(10^9*3600*24*365)$，约合585年。时间精度提高了，时间跨度就减少了。\n",
    "\n",
    "下面是一个以**天**为单位的日期："
   ]
  },
  {
   "cell_type": "code",
   "execution_count": 49,
   "metadata": {},
   "outputs": [
    {
     "data": {
      "text/plain": [
       "numpy.datetime64('2019-10-01')"
      ]
     },
     "execution_count": 49,
     "metadata": {},
     "output_type": "execute_result"
    }
   ],
   "source": [
    "np.datetime64('2019-10-01')"
   ]
  },
  {
   "cell_type": "markdown",
   "metadata": {},
   "source": [
    "而这是一个以**分钟**为单位的日期："
   ]
  },
  {
   "cell_type": "code",
   "execution_count": 50,
   "metadata": {},
   "outputs": [
    {
     "data": {
      "text/plain": [
       "numpy.datetime64('2019-10-01T10:00')"
      ]
     },
     "execution_count": 50,
     "metadata": {},
     "output_type": "execute_result"
    }
   ],
   "source": [
    "np.datetime64('2019-10-01 10:00')"
   ]
  },
  {
   "cell_type": "markdown",
   "metadata": {},
   "source": [
    "需要注意的是，时区将自动设置为执行代码的操作系统的当地时区。你可以通过各种格式的代码设置基本时间单位。例如，将时间单位设置为**纳秒**："
   ]
  },
  {
   "cell_type": "code",
   "execution_count": 51,
   "metadata": {},
   "outputs": [
    {
     "data": {
      "text/plain": [
       "numpy.datetime64('2015-07-04T10:00:00.000000001')"
      ]
     },
     "execution_count": 51,
     "metadata": {},
     "output_type": "execute_result"
    }
   ],
   "source": [
    "np.datetime64('2015-07-04 10:00:00.000000001', 'ns')"
   ]
  },
  {
   "cell_type": "markdown",
   "metadata": {},
   "source": [
    "NumPy的datetime64 文档[NumPy datetime64 documentation](http://docs.scipy.org/doc/numpy/reference/arrays.datetime.html)总结了所有支持相对与绝对时间跨度的时间与日期单位格式代码，下表对此总结如下。"
   ]
  },
  {
   "cell_type": "markdown",
   "metadata": {},
   "source": [
    "|代码    | 含义            | 时间跨度 (相对)       | 时间跨度 (绝对)        |\n",
    "|--------|-----------------|-----------------------|------------------------|\n",
    "| ``Y``  | 年Year\t      | ± 9.2e18 years       | [9.2e18 BC, 9.2e18 AD] |\n",
    "| ``M``  | 月Month         | ± 7.6e17 years       | [7.6e17 BC, 7.6e17 AD] |\n",
    "| ``W``  | 周Week\t      | ± 1.7e17 years       | [1.7e17 BC, 1.7e17 AD] |\n",
    "| ``D``  | 日Day           | ± 2.5e16 years       | [2.5e16 BC, 2.5e16 AD] |\n",
    "| ``h``  | 小时Hour        | ± 1.0e15 years       | [1.0e15 BC, 1.0e15 AD] |\n",
    "| ``m``  | 分钟Minute      | ± 1.7e13 years       | [1.7e13 BC, 1.7e13 AD] |\n",
    "| ``s``  | 秒Second        | ± 2.9e12 years       | [ 2.9e9 BC, 2.9e9 AD]  |\n",
    "| ``ms`` | 毫秒Millisecond | ± 2.9e9 years        | [ 2.9e6 BC, 2.9e6 AD]  |\n",
    "| ``us`` | 微秒Microsecond | ± 2.9e6 years        | [290301 BC, 294241 AD] |\n",
    "| ``ns`` | 纳秒Nanosecond  | ± 292 years          | [ 1678 AD, 2262 AD]    |\n",
    "| ``ps`` | 皮秒Picosecond  | ± 106 days           | [ 1969 AD, 1970 AD]    |\n",
    "| ``fs`` | 飞秒Femtosecond | ± 2.6 hours          | [ 1969 AD, 1970 AD]    |\n",
    "| ``as`` | 原秒Attosecond  | ± 9.2 seconds        | [ 1969 AD, 1970 AD]    |"
   ]
  },
  {
   "cell_type": "markdown",
   "metadata": {},
   "source": [
    "对于日常工作中的时间数据类型，默认单位都用纳秒``datetime64[ns]``，因为用它来表示时间范围精度可以满足绝大部分需求。\n",
    "\n",
    "最后还需要说明一点，虽然``datetime64``弥补了Python原生的``datetime``类型的不足，但它缺少了许多``datetime``（尤其是``dateutil``）原本具备的便捷方法与函数，具体内容请参考NumPy的datetime64文档[NumPy datetime64 documentation](http://docs.scipy.org/doc/numpy/reference/arrays.datetime.html)。"
   ]
  },
  {
   "cell_type": "markdown",
   "metadata": {},
   "source": [
    "### 3. Pandas的日期与时间工具： 理想与现实的最佳解决方案\n",
    "\n",
    "Pandas所有关于日期与时间的处理方法全部都是通过``Timestamp``（时间戳）对象实现的，它利用``numpy.datetime64``的有效存储和向量化接口将``datetime``和 ``dateutil``的易用性有机结合起来。\n",
    "\n",
    "Pandas通过一组``Timestamp``对象就可以创建一个可以作为``Series``或``DataFrame``索引的``DatetimeIndex``，我们将在后面介绍许多类似的例子。\n",
    "\n",
    "例如，可以用Pandas的方式演示前面介绍的日期与时间功能。我们可以灵活处理不同格式的日期与时间字符串，获取某一天是星期几："
   ]
  },
  {
   "cell_type": "code",
   "execution_count": 52,
   "metadata": {},
   "outputs": [
    {
     "data": {
      "text/plain": [
       "Timestamp('2019-10-01 00:00:00')"
      ]
     },
     "execution_count": 52,
     "metadata": {},
     "output_type": "execute_result"
    }
   ],
   "source": [
    "import pandas as pd\n",
    "date = pd.to_datetime(\"Oct 1st, 2019\") #pandas中的to_datetime( )有和datetime( )类似的功能\n",
    "date"
   ]
  },
  {
   "cell_type": "code",
   "execution_count": 53,
   "metadata": {},
   "outputs": [
    {
     "data": {
      "text/plain": [
       "'Tuesday'"
      ]
     },
     "execution_count": 53,
     "metadata": {},
     "output_type": "execute_result"
    }
   ],
   "source": [
    "date.strftime('%A')"
   ]
  },
  {
   "cell_type": "markdown",
   "metadata": {},
   "source": [
    "另外，也可以直接进行NumPy类型的向量化运算："
   ]
  },
  {
   "cell_type": "code",
   "execution_count": 54,
   "metadata": {},
   "outputs": [
    {
     "data": {
      "text/plain": [
       "DatetimeIndex(['2019-10-01', '2019-10-02', '2019-10-03', '2019-10-04',\n",
       "               '2019-10-05', '2019-10-06', '2019-10-07'],\n",
       "              dtype='datetime64[ns]', freq=None)"
      ]
     },
     "execution_count": 54,
     "metadata": {},
     "output_type": "execute_result"
    }
   ],
   "source": [
    "date + pd.to_timedelta(np.arange(7), unit='D') \n",
    "#pd.to_timedelta是时间差的意思，是一个表示两个datetime值之间的差(如日,秒和微妙)的类型，'D'表示日"
   ]
  },
  {
   "cell_type": "markdown",
   "metadata": {},
   "source": [
    "下面将详细介绍Pandas用来处理时间序列数据的工具。"
   ]
  },
  {
   "cell_type": "markdown",
   "metadata": {},
   "source": [
    "## 3.10.2 Pandas时间序列：用时间作索引\n",
    "\n",
    "Pandas时间序列工具非常适合用来处理**带时间戳的索引数据**。例如，我们可以通过一个时间索引数据创建一个``Series``对象："
   ]
  },
  {
   "cell_type": "code",
   "execution_count": 55,
   "metadata": {},
   "outputs": [
    {
     "data": {
      "text/plain": [
       "2016-10-01    0\n",
       "2017-10-01    1\n",
       "2018-10-01    2\n",
       "2019-10-01    3\n",
       "dtype: int64"
      ]
     },
     "execution_count": 55,
     "metadata": {},
     "output_type": "execute_result"
    }
   ],
   "source": [
    "index = pd.DatetimeIndex(['2016-10-01', '2017-10-01',\n",
    "                          '2018-10-01', '2019-10-01'])\n",
    "data = pd.Series([0, 1, 2, 3], index=index)\n",
    "data"
   ]
  },
  {
   "cell_type": "markdown",
   "metadata": {},
   "source": [
    "有了一个带时间索引的``Series``之后，就能用它来演示之前介绍过的``Series``取值方法，可以直接用日期进行切片取值："
   ]
  },
  {
   "cell_type": "code",
   "execution_count": 56,
   "metadata": {},
   "outputs": [
    {
     "data": {
      "text/plain": [
       "2016-10-01    0\n",
       "2017-10-01    1\n",
       "dtype: int64"
      ]
     },
     "execution_count": 56,
     "metadata": {},
     "output_type": "execute_result"
    }
   ],
   "source": [
    "data['2016-10-01':'2017-10-01']"
   ]
  },
  {
   "cell_type": "markdown",
   "metadata": {},
   "source": [
    "另外，还有一些仅在此类``Series``上可用的取值操作，例如直接通过年份切片获取该年的数据："
   ]
  },
  {
   "cell_type": "code",
   "execution_count": 57,
   "metadata": {},
   "outputs": [
    {
     "data": {
      "text/plain": [
       "2019-10-01    3\n",
       "dtype: int64"
      ]
     },
     "execution_count": 57,
     "metadata": {},
     "output_type": "execute_result"
    }
   ],
   "source": [
    "data['2019']"
   ]
  },
  {
   "cell_type": "markdown",
   "metadata": {},
   "source": [
    "下面将介绍一些示例，体现将日期作为索引为运算带来的便利性。在此之前，让我们仔细看看现有的时间序列数据结构。"
   ]
  },
  {
   "cell_type": "markdown",
   "metadata": {},
   "source": [
    "## 3.10.3 Pandas时间序列数据结构\n",
    "\n",
    "本节将介绍Pandas用来处理时间序列的基础数据类型。\n",
    "\n",
    "- 针对时间戳数据，Pandas提供了``Timestamp``类型。与前面介绍的一样，它本质上是Python的原生``datetime``类型的替代品，但是在性能更好的``numpy.datetime64``类型的基础上创建。对应的索引数据结构是``DatetimeIndex``。\n",
    "\n",
    "- 针对时间周期数据，Pandas提供了``Period``类型。这是利用``numpy.datetime64``类型将固定频率的时间间隔进行编码。对应的索引数据结构是``PeriodIndex``。\n",
    "\n",
    "- 针对时间增量或持续时间，Pandas提供了``Timedelta``类型。``Timedelta``是一种代替Python原生``datetime.timedelta``类型的高性能数据结构，同样是基于``numpy.timedelta64``类型。对应的索引数据结构是``TimedeltaIndex``。"
   ]
  },
  {
   "cell_type": "markdown",
   "metadata": {},
   "source": [
    "最基础的日期/时间对象是``Timestamp``和``DatetimeIndex``。这两种对象可以直接使用，最常用的方法是``pd.to_datetime()``函数，它可以解析许多日期与时间格式。对``pd.to_datetime()``传递一个日期会返回一个``Timestamp``类型，传递一个时间序列会返回一个``DatetimeIndex``类型："
   ]
  },
  {
   "cell_type": "code",
   "execution_count": 58,
   "metadata": {},
   "outputs": [
    {
     "data": {
      "text/plain": [
       "DatetimeIndex(['2019-10-01', '2019-10-01', '2019-10-01', '2019-10-01',\n",
       "               '2019-10-01', '2019-10-01', '2019-10-02'],\n",
       "              dtype='datetime64[ns]', freq=None)"
      ]
     },
     "execution_count": 58,
     "metadata": {},
     "output_type": "execute_result"
    }
   ],
   "source": [
    "dates = pd.to_datetime([datetime(2019, 10, 1), 'Oct 1st, 2019', '1st Oct 2019',\n",
    "                       '2019-Oct-1', '10-1-2019', '20191001', '2019/10/02'])\n",
    "dates"
   ]
  },
  {
   "cell_type": "markdown",
   "metadata": {},
   "source": [
    "任何``DatetimeIndex``类型都可以通过``to_period()``方法和一个频率代码转换成``PeriodIndex``类型。下面用``'D'``将数据转换成单日的时间序列："
   ]
  },
  {
   "cell_type": "code",
   "execution_count": 59,
   "metadata": {},
   "outputs": [
    {
     "data": {
      "text/plain": [
       "PeriodIndex(['2019-10-01', '2019-10-01', '2019-10-01', '2019-10-01',\n",
       "             '2019-10-01', '2019-10-01', '2019-10-02'],\n",
       "            dtype='period[D]', freq='D')"
      ]
     },
     "execution_count": 59,
     "metadata": {},
     "output_type": "execute_result"
    }
   ],
   "source": [
    "dates.to_period('D')"
   ]
  },
  {
   "cell_type": "markdown",
   "metadata": {},
   "source": [
    "当用一个日期减去另一个日期时，返回的结果是``TimedeltaIndex``类型："
   ]
  },
  {
   "cell_type": "code",
   "execution_count": 60,
   "metadata": {},
   "outputs": [
    {
     "data": {
      "text/plain": [
       "TimedeltaIndex(['0 days', '0 days', '0 days', '0 days', '0 days', '0 days',\n",
       "                '1 days'],\n",
       "               dtype='timedelta64[ns]', freq=None)"
      ]
     },
     "execution_count": 60,
     "metadata": {},
     "output_type": "execute_result"
    }
   ],
   "source": [
    "dates - dates[0]"
   ]
  },
  {
   "cell_type": "markdown",
   "metadata": {},
   "source": [
    "### 有规律的时间序列：``pd.date_range()``\n",
    "\n",
    "为了能更简便地创建有规律的时间序列，Pandas提供了一些方法：``pd.date_range()``可以处理时间戳、``pd.period_range()``可以处理周期、``pd.timedelta_range()``可以处理时间间隔。\n",
    "\n",
    "我们已经介绍过，Python的``range()``和NumPy的``np.arange()``可以用起点、终点和步长（可选的）创建一个序列。``pd.date_range()``与之类似，通过开始日期、结束日期和频率代码（同样是可选的）创建一个有规律的日期序列，默认的频率是天："
   ]
  },
  {
   "cell_type": "code",
   "execution_count": 61,
   "metadata": {},
   "outputs": [
    {
     "data": {
      "text/plain": [
       "DatetimeIndex(['2019-10-01', '2019-10-02', '2019-10-03', '2019-10-04',\n",
       "               '2019-10-05', '2019-10-06', '2019-10-07', '2019-10-08',\n",
       "               '2019-10-09', '2019-10-10',\n",
       "               ...\n",
       "               '2020-09-22', '2020-09-23', '2020-09-24', '2020-09-25',\n",
       "               '2020-09-26', '2020-09-27', '2020-09-28', '2020-09-29',\n",
       "               '2020-09-30', '2020-10-01'],\n",
       "              dtype='datetime64[ns]', length=367, freq='D')"
      ]
     },
     "execution_count": 61,
     "metadata": {},
     "output_type": "execute_result"
    }
   ],
   "source": [
    "pd.date_range('2019-10-01', '2020-10-1')"
   ]
  },
  {
   "cell_type": "markdown",
   "metadata": {},
   "source": [
    "此外，日期范围不一定非是开始时间与结束时间，也可以是开始时间与周期数periods："
   ]
  },
  {
   "cell_type": "code",
   "execution_count": 62,
   "metadata": {},
   "outputs": [
    {
     "data": {
      "text/plain": [
       "DatetimeIndex(['2019-10-01', '2019-10-02', '2019-10-03', '2019-10-04',\n",
       "               '2019-10-05', '2019-10-06', '2019-10-07'],\n",
       "              dtype='datetime64[ns]', freq='D')"
      ]
     },
     "execution_count": 62,
     "metadata": {},
     "output_type": "execute_result"
    }
   ],
   "source": [
    "pd.date_range('2019-10-01', periods=7)"
   ]
  },
  {
   "cell_type": "markdown",
   "metadata": {},
   "source": [
    "你可以通过``freq``参数改变时间间隔，默认值是``D``。例如，可以创建一个按小时变化的时间戳："
   ]
  },
  {
   "cell_type": "code",
   "execution_count": 63,
   "metadata": {},
   "outputs": [
    {
     "data": {
      "text/plain": [
       "DatetimeIndex(['2019-10-01 00:00:00', '2019-10-01 01:00:00',\n",
       "               '2019-10-01 02:00:00', '2019-10-01 03:00:00',\n",
       "               '2019-10-01 04:00:00', '2019-10-01 05:00:00',\n",
       "               '2019-10-01 06:00:00'],\n",
       "              dtype='datetime64[ns]', freq='H')"
      ]
     },
     "execution_count": 63,
     "metadata": {},
     "output_type": "execute_result"
    }
   ],
   "source": [
    "pd.date_range('2019-10-01', periods=7, freq='H')"
   ]
  },
  {
   "cell_type": "markdown",
   "metadata": {},
   "source": [
    "如果要创建一个有规律的``Period``或``Timedelta``序列，有类似的函数``pd.period_range()``和``pd.timedelta_range()``。下面是一个以月为周期的示例："
   ]
  },
  {
   "cell_type": "code",
   "execution_count": 64,
   "metadata": {},
   "outputs": [
    {
     "data": {
      "text/plain": [
       "PeriodIndex(['2019-10-01', '2019-10-02', '2019-10-03', '2019-10-04',\n",
       "             '2019-10-05', '2019-10-06', '2019-10-07', '2019-10-08',\n",
       "             '2019-10-09', '2019-10-10', '2019-10-11', '2019-10-12'],\n",
       "            dtype='period[D]', freq='D')"
      ]
     },
     "execution_count": 64,
     "metadata": {},
     "output_type": "execute_result"
    }
   ],
   "source": [
    "pd.period_range('2019-10', periods=12, freq='D')"
   ]
  },
  {
   "cell_type": "markdown",
   "metadata": {},
   "source": [
    "以及一个以小时递增的序列："
   ]
  },
  {
   "cell_type": "code",
   "execution_count": 65,
   "metadata": {},
   "outputs": [
    {
     "data": {
      "text/plain": [
       "TimedeltaIndex(['00:00:00', '01:00:00', '02:00:00', '03:00:00', '04:00:00',\n",
       "                '05:00:00', '06:00:00', '07:00:00', '08:00:00', '09:00:00'],\n",
       "               dtype='timedelta64[ns]', freq='H')"
      ]
     },
     "execution_count": 65,
     "metadata": {},
     "output_type": "execute_result"
    }
   ],
   "source": [
    "pd.timedelta_range(0, periods=10, freq='H')"
   ]
  },
  {
   "cell_type": "markdown",
   "metadata": {},
   "source": [
    "掌握Pandas频率代码是使用所有这些时间序列创建方法的必要条件。接下来，我们将总结这些代码。"
   ]
  },
  {
   "cell_type": "markdown",
   "metadata": {},
   "source": [
    "## 3.10.4　时间频率与偏移量\n",
    "\n",
    "Pandas时间序列工具的基础是时间频率或偏移量（offset）代码。就像之前见过的``D``（day）和``H``（hour）代码，我们可以用这些代码设置任意需要的时间间隔。下表总结了主要的频率代码。"
   ]
  },
  {
   "cell_type": "markdown",
   "metadata": {},
   "source": [
    "| 代码   | 描述                                  | 代码   | 描述                                    |\n",
    "|--------|---------------------------------------|--------|-----------------------------------------|\n",
    "| ``D``  | 天（calendar day，按日历算，含双休日）| ``B``  | 天（business day，仅含工作日）          |\n",
    "| ``W``  | 周（weekly）                          |        |                                         |\n",
    "| ``M``  | 月末（Month end）                     | ``BM`` | 月末（business month end，仅含工作日）  |\n",
    "| ``Q``  | 季末（Quarter end）                   | ``BQ`` | 季末（business quarter end，仅含工作日）|\n",
    "| ``A``  | 年末（Year end）                      | ``BA`` | 年末（business year end，仅含工作日）   |\n",
    "| ``H``  | 小时（Hours）                         | ``BH`` | 小时（business hours，工作时间）        |\n",
    "| ``T``  | 分钟（Minutes）                       |        |                                         |\n",
    "| ``S``  | 秒（Seconds）                         |        |                                         |\n",
    "| ``L``  | 毫秒（Milliseonds）                   |        |                                         |\n",
    "| ``U``  | 微秒（Microseconds）                  |        |                                         |\n",
    "| ``N``  | 纳秒（nanoseconds）                   |        |                                         |"
   ]
  },
  {
   "cell_type": "markdown",
   "metadata": {},
   "source": [
    "月、季、年频率都是具体周期的结束时间（月末、季末、年末），而有一些以``S``（start，开始）为后缀的代码表示日期开始（如下表所示）。"
   ]
  },
  {
   "cell_type": "markdown",
   "metadata": {},
   "source": [
    "| 代码    | 描述            || 代码    | 描述            |\n",
    "|---------|------------------------||---------|------------------------|\n",
    "| ``MS``  | 月初（month start）            ||``BMS``  | 月初（business month start，仅含工作日）   |\n",
    "| ``QS``  | 季初（quarter start）          ||``BQS``  | 季初（business quarter start，仅含工作日） |\n",
    "| ``AS``  | 年初（year start）             ||``BAS``  | 年初（business year start，仅含工作日）    |"
   ]
  },
  {
   "cell_type": "markdown",
   "metadata": {},
   "source": [
    "另外，你可以在频率代码后面加三位月份缩写字母来改变季、年频率的开始时间。\n",
    "\n",
    "- ``Q-JAN``, ``BQ-FEB``, ``QS-MAR``, ``BQS-APR``, etc.\n",
    "- ``A-JAN``, ``BA-FEB``, ``AS-MAR``, ``BAS-APR``, etc.\n",
    "\n",
    "同理，也可以在后面加三位星期缩写字母来改变一周的开始时间。\n",
    "\n",
    "- ``W-SUN``, ``W-MON``, ``W-TUE``, ``W-WED``, etc.\n",
    "\n",
    "在这些代码的基础上，还可以将频率组合起来创建的新的周期。例如，可以用小时（``H``）和分钟（``T``）的组合来实现2小时30分钟："
   ]
  },
  {
   "cell_type": "code",
   "execution_count": 66,
   "metadata": {},
   "outputs": [
    {
     "data": {
      "text/plain": [
       "TimedeltaIndex(['00:00:00', '02:30:00', '05:00:00', '07:30:00', '10:00:00',\n",
       "                '12:30:00', '15:00:00', '17:30:00', '20:00:00'],\n",
       "               dtype='timedelta64[ns]', freq='150T')"
      ]
     },
     "execution_count": 66,
     "metadata": {},
     "output_type": "execute_result"
    }
   ],
   "source": [
    "pd.timedelta_range(0, periods=9, freq=\"2H30T\")"
   ]
  },
  {
   "cell_type": "markdown",
   "metadata": {},
   "source": [
    "所有这些频率代码都对应Pandas时间序列的偏移量，具体内容可以在``pd.tseries.offsets``模块中找到。例如，可以用下面的方法直接创建一个工作日偏移序列："
   ]
  },
  {
   "cell_type": "code",
   "execution_count": 67,
   "metadata": {},
   "outputs": [
    {
     "data": {
      "text/plain": [
       "DatetimeIndex(['2019-10-01', '2019-10-02', '2019-10-03', '2019-10-04',\n",
       "               '2019-10-07'],\n",
       "              dtype='datetime64[ns]', freq='B')"
      ]
     },
     "execution_count": 67,
     "metadata": {},
     "output_type": "execute_result"
    }
   ],
   "source": [
    "from pandas.tseries.offsets import BDay\n",
    "pd.date_range('2019-10-01', periods=5, freq='B')\n",
    "#pd.date_range('2019-10-01', periods=5, freq='W-MON')"
   ]
  },
  {
   "cell_type": "markdown",
   "metadata": {},
   "source": [
    "关于时间频率与偏移量的更多内容，请参考Pandas在线文档 [\"DateOffset\" section](http://pandas.pydata.org/pandas-docs/stable/timeseries.html#dateoffset-objects)。"
   ]
  },
  {
   "cell_type": "markdown",
   "metadata": {},
   "source": [
    "## 3.10.5 重新取样、 迁移和窗口\n",
    "\n",
    "用日期和时间直观地组织与获取数据是Pandas时间序列工具最重要的功能之一。Pandas不仅支持普通索引功能（合并数据时自动索引对齐、直观的数据切片和取值方法等），还专为时间序列提供了额外的操作。\n",
    "\n",
    "下面让我们用一些股票数据来演示这些功能。由于Pandas最初是为金融数据模型服务的，因此可以用它非常方便地获取金融数据。例如，``pandas-datareader``程序包（可以通过``pip install pandas-datareader``进行安装）知道如何从一些可用的数据源导入金融数据，包含Yahoo财经、Google财经和其他数据源。下面来导入贵州茅台（600519）的历史股票价格（为避免网络或服务器响应问题，我们用已下载好的数据进行演示）："
   ]
  },
  {
   "cell_type": "code",
   "execution_count": 127,
   "metadata": {},
   "outputs": [
    {
     "data": {
      "text/html": [
       "<div>\n",
       "<style scoped>\n",
       "    .dataframe tbody tr th:only-of-type {\n",
       "        vertical-align: middle;\n",
       "    }\n",
       "\n",
       "    .dataframe tbody tr th {\n",
       "        vertical-align: top;\n",
       "    }\n",
       "\n",
       "    .dataframe thead th {\n",
       "        text-align: right;\n",
       "    }\n",
       "</style>\n",
       "<table border=\"1\" class=\"dataframe\">\n",
       "  <thead>\n",
       "    <tr style=\"text-align: right;\">\n",
       "      <th></th>\n",
       "      <th>High</th>\n",
       "      <th>Low</th>\n",
       "      <th>Open</th>\n",
       "      <th>Close</th>\n",
       "      <th>Volume</th>\n",
       "      <th>Adj Close</th>\n",
       "    </tr>\n",
       "    <tr>\n",
       "      <th>Date</th>\n",
       "      <th></th>\n",
       "      <th></th>\n",
       "      <th></th>\n",
       "      <th></th>\n",
       "      <th></th>\n",
       "      <th></th>\n",
       "    </tr>\n",
       "  </thead>\n",
       "  <tbody>\n",
       "    <tr>\n",
       "      <th>2015-01-05</th>\n",
       "      <td>185.673004</td>\n",
       "      <td>173.636002</td>\n",
       "      <td>174.544998</td>\n",
       "      <td>184.108994</td>\n",
       "      <td>10396669.0</td>\n",
       "      <td>169.497345</td>\n",
       "    </tr>\n",
       "    <tr>\n",
       "      <th>2015-01-06</th>\n",
       "      <td>184.145004</td>\n",
       "      <td>178.199997</td>\n",
       "      <td>181.817993</td>\n",
       "      <td>179.845001</td>\n",
       "      <td>6052201.0</td>\n",
       "      <td>165.571777</td>\n",
       "    </tr>\n",
       "    <tr>\n",
       "      <th>2015-01-07</th>\n",
       "      <td>181.363998</td>\n",
       "      <td>172.718002</td>\n",
       "      <td>178.218002</td>\n",
       "      <td>175.399994</td>\n",
       "      <td>6027762.0</td>\n",
       "      <td>161.479553</td>\n",
       "    </tr>\n",
       "    <tr>\n",
       "      <th>2015-01-08</th>\n",
       "      <td>176.835999</td>\n",
       "      <td>172.854996</td>\n",
       "      <td>176.363998</td>\n",
       "      <td>174.326996</td>\n",
       "      <td>4457783.0</td>\n",
       "      <td>160.491714</td>\n",
       "    </tr>\n",
       "    <tr>\n",
       "      <th>2015-01-09</th>\n",
       "      <td>177.973007</td>\n",
       "      <td>172.826996</td>\n",
       "      <td>173.091003</td>\n",
       "      <td>173.009003</td>\n",
       "      <td>5938042.0</td>\n",
       "      <td>159.278336</td>\n",
       "    </tr>\n",
       "  </tbody>\n",
       "</table>\n",
       "</div>"
      ],
      "text/plain": [
       "                  High         Low        Open       Close      Volume  \\\n",
       "Date                                                                     \n",
       "2015-01-05  185.673004  173.636002  174.544998  184.108994  10396669.0   \n",
       "2015-01-06  184.145004  178.199997  181.817993  179.845001   6052201.0   \n",
       "2015-01-07  181.363998  172.718002  178.218002  175.399994   6027762.0   \n",
       "2015-01-08  176.835999  172.854996  176.363998  174.326996   4457783.0   \n",
       "2015-01-09  177.973007  172.826996  173.091003  173.009003   5938042.0   \n",
       "\n",
       "             Adj Close  \n",
       "Date                    \n",
       "2015-01-05  169.497345  \n",
       "2015-01-06  165.571777  \n",
       "2015-01-07  161.479553  \n",
       "2015-01-08  160.491714  \n",
       "2015-01-09  159.278336  "
      ]
     },
     "execution_count": 127,
     "metadata": {},
     "output_type": "execute_result"
    }
   ],
   "source": [
    "from pandas_datareader import data\n",
    "from datetime import datetime\n",
    "\n",
    "#start = datetime(2015,1,1)#获取数据的时间段-起始时间\n",
    "#end = date.today()#获取数据的时间段-结束时间\n",
    "#GZMT = data.DataReader('600519.SS',\"yahoo\",start, end)#从yahoo库里下载贵州茅台（600519）的数据，上证股票在股票代码后面加上“.SS”，深圳股票在股票代码后面加上“.SZ”\n",
    "#GZMT.to_csv('data/GZMT_data.csv',index=True) #为了更方便的查看下载的数据，我将它保存为了.csv数据\n",
    "GZMT = pd.read_csv('data/GZMT_data.csv')#index_col参数非常有用，它将'Date'这列设置为索引\n",
    "GZMT['Date'] = pd.to_datetime(GZMT['Date'])#转换列的类型并保存\n",
    "GZMT = GZMT.set_index(['Date'])#将index设置为Date并保存\n",
    "GZMT.head()"
   ]
  },
  {
   "cell_type": "markdown",
   "metadata": {},
   "source": [
    "出于简化的目的，这里只用收盘价："
   ]
  },
  {
   "cell_type": "code",
   "execution_count": 134,
   "metadata": {},
   "outputs": [
    {
     "data": {
      "text/plain": [
       "Date\n",
       "2015-01-05    184.108994\n",
       "2015-01-06    179.845001\n",
       "2015-01-07    175.399994\n",
       "2015-01-08    174.326996\n",
       "2015-01-09    173.009003\n",
       "Name: Close, dtype: float64"
      ]
     },
     "execution_count": 134,
     "metadata": {},
     "output_type": "execute_result"
    }
   ],
   "source": [
    "GZMT_close = GZMT['Close']\n",
    "GZMT_close.head()"
   ]
  },
  {
   "cell_type": "markdown",
   "metadata": {},
   "source": [
    "设置Matplotlib之后，就可以通过``plot()``画出可视化图了："
   ]
  },
  {
   "cell_type": "code",
   "execution_count": 129,
   "metadata": {},
   "outputs": [],
   "source": [
    "%matplotlib inline\n",
    "import matplotlib.pyplot as plt\n",
    "import seaborn; seaborn.set()"
   ]
  },
  {
   "cell_type": "code",
   "execution_count": 135,
   "metadata": {},
   "outputs": [
    {
     "data": {
      "image/png": "[encoded data removed]",
      "text/plain": [
       "<matplotlib.figure.Figure at 0x19d57780>"
      ]
     },
     "metadata": {},
     "output_type": "display_data"
    }
   ],
   "source": [
    "GZMT_close.plot();"
   ]
  },
  {
   "cell_type": "markdown",
   "metadata": {},
   "source": [
    "### 1. 重采样与频率转换\n",
    "\n",
    "处理时间序列数据时，经常需要按照新的频率（更高频率、更低频率）对数据进行重采样。你可以通过``resample()``方法解决这个问题，或者用更简单的 ``asfreq()``方法。这两个方法的主要差异在于，``resample()``方法是以**数据累计**（data aggregation）为基础，而``asfreq()``方法是以**数据选择**（data selection）为基础。\n",
    "\n",
    "看到贵州茅台的收盘价之后，让我们用两种方法对数据进行向后取样（down-sample，降低频率的意思，比如频率从1天到1个月）。这里用年末（'BA'，business year end，仅含工作日）对数据进行重新取样："
   ]
  },
  {
   "cell_type": "code",
   "execution_count": 159,
   "metadata": {},
   "outputs": [
    {
     "data": {
      "image/png": "[encoded data removed]",
      "text/plain": [
       "<matplotlib.figure.Figure at 0x1b4f7e10>"
      ]
     },
     "metadata": {},
     "output_type": "display_data"
    }
   ],
   "source": [
    "GZMT_close.plot(alpha=0.7, style='-')\n",
    "GZMT_close.resample('BA').mean().plot(style=':')\n",
    "GZMT_close.asfreq('BA').plot(style='--');\n",
    "plt.legend(['close price', 'resample', 'asfreq'], loc='upper left');"
   ]
  },
  {
   "cell_type": "markdown",
   "metadata": {},
   "source": [
    "请注意这两种取样方法的差异：在每个数据点上，``resample``反映的是**上一年的均值**，而``asfreq``反映的是**上一年最后一个工作日的收盘价**。\n",
    "\n",
    "仔细看这张图，发现绿色的线只到2017年底，2018年和2019年并显示，这是为什么呢？我们把值输出看看。"
   ]
  },
  {
   "cell_type": "code",
   "execution_count": 160,
   "metadata": {
    "scrolled": true
   },
   "outputs": [
    {
     "data": {
      "text/plain": [
       "Date\n",
       "2015-12-31    218.190002\n",
       "2016-12-30    334.149994\n",
       "2017-12-29    697.489990\n",
       "2018-12-31           NaN\n",
       "Freq: BA-DEC, Name: Close, dtype: float64"
      ]
     },
     "execution_count": 160,
     "metadata": {},
     "output_type": "execute_result"
    }
   ],
   "source": [
    "GZMT_close.asfreq('BA')#'BA'表示business year end（见3.10.4的第一张表）"
   ]
  },
  {
   "cell_type": "markdown",
   "metadata": {},
   "source": [
    "2018-12-31值NaN。'BA'表示business year end（见3.10.4的第一张表），仅含工作日。2018-12-31是工作日（周一），但因为我国的调休，那一天没有开市，在GZMT_data.csv数据表里没有这一行数据，所以是NaN（即2018年就没有``asfreq``的值）。同理，2019年还没过完，所以没有2019-12-31的值。"
   ]
  },
  {
   "cell_type": "markdown",
   "metadata": {},
   "source": [
    "在进行向上取样（up-sampling，可以理解为升高频率）时，``resample()``与``asfreq()``的用法大体相同，不过重新取样有许多种配置方式。操作时，两种方法都默认将向前取样作为缺失值处理，也就是说在里面填充``NaN``。与前面介绍过的``pd.fillna()``函数类似，``asfreq()``有一个``method``参数可以设置填充缺失值的方式。下面将对工作日数据按天进行重新取样（即包含周末），结果如下图所示："
   ]
  },
  {
   "cell_type": "code",
   "execution_count": 165,
   "metadata": {},
   "outputs": [
    {
     "name": "stdout",
     "output_type": "stream",
     "text": [
      "Date\n",
      "2015-01-05    184.108994\n",
      "2015-01-06    179.845001\n",
      "2015-01-07    175.399994\n",
      "2015-01-08    174.326996\n",
      "2015-01-09    173.009003\n",
      "2015-01-12    169.481995\n",
      "2015-01-13    168.072998\n",
      "2015-01-14    166.526993\n",
      "2015-01-15    169.154999\n",
      "2015-01-16    169.190994\n",
      "Name: Close, dtype: float64\n"
     ]
    },
    {
     "data": {
      "image/png": "[encoded data removed]",
      "text/plain": [
       "<matplotlib.figure.Figure at 0x1b6544a8>"
      ]
     },
     "metadata": {},
     "output_type": "display_data"
    }
   ],
   "source": [
    "fig, ax = plt.subplots(2, sharex=True)#绘制子图（subplot），分享共同的x轴（sharex=True）\n",
    "data = GZMT_close.iloc[:10]#取前10天的数据\n",
    "print(data)\n",
    "#画第1个子图\n",
    "data.asfreq('D').plot(ax=ax[0], marker='o')#将ax[0]理解为第1个subplot,在它上面画图\n",
    "#画第2个子图\n",
    "data.asfreq('D', method='bfill').plot(ax=ax[1], style='-o')#bfill：back-fill\n",
    "data.asfreq('D', method='ffill').plot(ax=ax[1], style='--o')#ffill：forward-fill\n",
    "ax[1].legend([\"back-fill\", \"forward-fill\"]);"
   ]
  },
  {
   "cell_type": "markdown",
   "metadata": {},
   "source": [
    "上面那幅图是原始数据：非工作日的股价是缺失值，所以不会出现在图上。而下面那幅图通过向前填充与向后填充这两种方法填补了缺失值。"
   ]
  },
  {
   "cell_type": "markdown",
   "metadata": {},
   "source": [
    "### 2. 时间迁移\n",
    "\n",
    "另一种常用的时间序列操作是对数据按时间进行迁移。Pandas有两种解决这类问题的方法：``shift()``和``tshift()``。简单来说，``shift()``就是迁移数据，而``tshift()``就是迁移索引。\n",
    "\n",
    "两种方法都是按照频率代码进行迁移。\n",
    "\n",
    "下面我们将用``shift()``和``tshift()``这两种方法让数据迁移900天（如下图所示）："
   ]
  },
  {
   "cell_type": "code",
   "execution_count": 166,
   "metadata": {},
   "outputs": [
    {
     "data": {
      "image/png": "[encoded data removed]",
      "text/plain": [
       "<matplotlib.figure.Figure at 0x1b1573c8>"
      ]
     },
     "metadata": {},
     "output_type": "display_data"
    }
   ],
   "source": [
    "fig, ax = plt.subplots(3, sharey=True)\n",
    "\n",
    "# 对数据应用时间频率，用向后填充解决缺失值\n",
    "GZMT_close = GZMT_close.asfreq('D', method='bfill')\n",
    "\n",
    "GZMT_close.plot(ax=ax[0])\n",
    "GZMT_close.shift(900).plot(ax=ax[1])\n",
    "GZMT_close.tshift(900).plot(ax=ax[2])\n",
    "\n",
    "# 设置图例与标签\n",
    "local_max = pd.to_datetime('2015-11-05')\n",
    "offset = pd.Timedelta(900, 'D')\n",
    "\n",
    "ax[0].legend(['input'], loc=2)\n",
    "ax[0].get_xticklabels()[2].set(weight='heavy',color='red')\n",
    "ax[0].axvline(local_max, alpha=0.1, color='red')\n",
    "\n",
    "ax[1].legend(['shift(900)'], loc=2)\n",
    "ax[1].get_xticklabels()[2].set(weight='heavy', color='red',fontsize=5)\n",
    "ax[1].axvline(local_max + offset, alpha=0.3, color='red')\n",
    "\n",
    "ax[2].legend(['tshift(900)'], loc=2)\n",
    "ax[2].get_xticklabels()[1].set(weight='heavy', color='red',fontsize=5)\n",
    "ax[2].axvline(local_max + offset, alpha=0.3, color='red');"
   ]
  },
  {
   "cell_type": "markdown",
   "metadata": {},
   "source": [
    "我们会发现，``shift(900)``将数据向前推进了900天，这样图形中的一段就消失了（最左侧就变成了缺失值），而``tshift(900)``方法是将时间索引值向前推进了900天。\n",
    "\n",
    "这类迁移方法的常见使用场景就是计算数据在不同时段的差异。例如，我们可以用迁移后的值来计算贵州茅台一年期的投资回报率（如下图所示）："
   ]
  },
  {
   "cell_type": "code",
   "execution_count": null,
   "metadata": {},
   "outputs": [],
   "source": [
    "ROI = 100 * (GZMT.tshift(-365) / GZMT - 1)\n",
    "ROI.plot()\n",
    "plt.ylabel('% Return on Investment');"
   ]
  },
  {
   "cell_type": "markdown",
   "metadata": {},
   "source": [
    "这可以帮助我们观察贵州茅台的总体特征：从图中可以看出，贵州茅台在2017-2018年投资回报率下降，其余时间都上升。"
   ]
  },
  {
   "cell_type": "markdown",
   "metadata": {},
   "source": [
    "### 3. 移动时间窗口\n",
    "\n",
    "Pandas处理时间序列数据的第3种操作是移动统计值（rolling statistics）。这些指标可以通过``Series``和``DataFrame``的``rolling()``属性来实现，它会返回与``groupby``操作类似的结果。移动视图（rolling view）使得许多累计操作成为可能。\n",
    "\n",
    "例如，可以通过下面的代码获取贵州茅台收盘价的一年期移动平均值和标准差（如下图所示）："
   ]
  },
  {
   "cell_type": "code",
   "execution_count": null,
   "metadata": {},
   "outputs": [],
   "source": [
    "rolling = GZMT.rolling(365, center=True)\n",
    "\n",
    "data = pd.DataFrame({'input': GZMT,\n",
    "                     'one-year rolling_mean': rolling.mean(),\n",
    "                     'one-year rolling_std': rolling.std()})\n",
    "ax = data.plot(style=['-', '--', ':'])\n",
    "ax.lines[0].set_alpha(0.3)"
   ]
  },
  {
   "cell_type": "markdown",
   "metadata": {},
   "source": [
    "与``groupby``操作一样，``aggregate()``和``apply()`` 方法都可以用来自定义移动计算。"
   ]
  },
  {
   "cell_type": "markdown",
   "metadata": {},
   "source": [
    "## 3.12.6 更多学习资料\n",
    "\n",
    "在这一节中，我们只是简单总结了Pandas时间序列工具的一些最常用功能，更详细的介绍请参考 Pandas在线文档[\"Time Series/Date\" section](http://pandas.pydata.org/pandas-docs/stable/timeseries.html)。\n",
    "\n",
    "另一个优秀的资源是Wes McKinney（Pandas创建者）所著的《利用Python进行数据分析》[Python for Data Analysis](http://shop.oreilly.com/product/0636920023784.do)。虽然这本书已经有些年头了，但仍然是学习Pandas的好资源，尤其是这本书重点介绍了时间序列工具在商业与金融业务中的应用，作者用大量笔墨介绍了工作日历、时区和相关主题的具体内容。\n",
    "\n",
    "你当然可以用IPython的帮助功能来浏览和深入探索上面介绍过的函数与方法，我个人认为这是学习各种Python工具的最佳途径。"
   ]
  },
  {
   "cell_type": "markdown",
   "metadata": {},
   "source": [
    "## 3.12.7 案例：美国西雅图自行车统计数据的可视化\n",
    "\n",
    "下面来介绍一个比较复杂的时间序列数据，统计自2012年以来每天经过美国西雅图弗莱蒙特桥[Fremont Bridge](http://www.openstreetmap.org/#map=17/47.64813/-122.34965)上的自行车的数\n",
    "量，数据由安装在桥东西两侧人行道的传感器采集。小时统计数据可以在 http://data.seattle.gov/ 下载，还有一个数据集的直接下载链接 [direct link to the dataset](https://data.seattle.gov/Transportation/Fremont-Bridge-Hourly-Bicycle-Counts-by-Month-Octo/65db-xm6k)。\n",
    "\n",
    "截至2016年夏，CSV数据可以用以下命令下载："
   ]
  },
  {
   "cell_type": "code",
   "execution_count": null,
   "metadata": {},
   "outputs": [],
   "source": [
    "# !curl -o FremontBridge.csv https://data.seattle.gov/api/views/65db-xm6k/rows.csv?accessType=DOWNLOAD"
   ]
  },
  {
   "cell_type": "markdown",
   "metadata": {},
   "source": [
    "下好数据之后，可以用Pandas读取CSV文件获取一个``DataFrame``。我们将Date作为时间索引，并希望这些日期可以被自动解析："
   ]
  },
  {
   "cell_type": "code",
   "execution_count": null,
   "metadata": {},
   "outputs": [],
   "source": [
    "pop = pd.read_csv('data/state-population.csv')\n",
    "data = pd.read_csv('flux-data.xlsx', index_col='Date', parse_dates=True)\n",
    "data.head()"
   ]
  },
  {
   "cell_type": "markdown",
   "metadata": {},
   "source": [
    "下好数据之后，可以用Pandas读取CSV文件获取一个DataFrame。我们将Date作为时间索引，并希望这些日期可以被自动解析："
   ]
  },
  {
   "cell_type": "code",
   "execution_count": null,
   "metadata": {},
   "outputs": [],
   "source": [
    "data.columns = ['West', 'East']\n",
    "data['Total'] = data.eval('West + East')"
   ]
  },
  {
   "cell_type": "markdown",
   "metadata": {},
   "source": [
    "现在来看看这三列的统计值："
   ]
  },
  {
   "cell_type": "code",
   "execution_count": null,
   "metadata": {},
   "outputs": [],
   "source": [
    "data.dropna().describe()"
   ]
  },
  {
   "cell_type": "markdown",
   "metadata": {},
   "source": [
    "### 1. 数据可视化\n",
    "\n",
    "通过可视化，我们可以对数据集有一些直观的认识。先为原始数据画图（如下图所示）："
   ]
  },
  {
   "cell_type": "code",
   "execution_count": null,
   "metadata": {},
   "outputs": [],
   "source": [
    "%matplotlib inline\n",
    "import seaborn; seaborn.set()"
   ]
  },
  {
   "cell_type": "code",
   "execution_count": null,
   "metadata": {},
   "outputs": [],
   "source": [
    "data.plot()\n",
    "plt.ylabel('Hourly Bicycle Count');"
   ]
  },
  {
   "cell_type": "markdown",
   "metadata": {},
   "source": [
    "在图中显示大约25000小时的样本数据对我们来说实在太多了，因此可以通过重新取样将数据转换成更大的颗粒度，比如按周累计（如下图所示）："
   ]
  },
  {
   "cell_type": "code",
   "execution_count": null,
   "metadata": {},
   "outputs": [],
   "source": [
    "weekly = data.resample('W').sum()\n",
    "weekly.plot(style=[':', '--', '-'])\n",
    "plt.ylabel('Weekly bicycle count');"
   ]
  },
  {
   "cell_type": "markdown",
   "metadata": {},
   "source": [
    "This shows us some interesting seasonal trends: as you might expect, people bicycle more in the summer than in the winter, and even within a particular season the bicycle use varies from week to week (likely dependent on weather; see [In Depth: Linear Regression](05.06-Linear-Regression.ipynb) where we explore this further).\n",
    "\n",
    "Another way that comes in handy for aggregating the data is to use a rolling mean, utilizing the ``pd.rolling_mean()`` function.\n",
    "Here we'll do a 30 day rolling mean of our data, making sure to center the window:"
   ]
  },
  {
   "cell_type": "code",
   "execution_count": null,
   "metadata": {},
   "outputs": [],
   "source": [
    "daily = data.resample('D').sum()\n",
    "daily.rolling(30, center=True).sum().plot(style=[':', '--', '-'])\n",
    "plt.ylabel('mean hourly count');"
   ]
  },
  {
   "cell_type": "markdown",
   "metadata": {},
   "source": [
    "The jaggedness of the result is due to the hard cutoff of the window.\n",
    "We can get a smoother version of a rolling mean using a window function–for example, a Gaussian window.\n",
    "The following code specifies both the width of the window (we chose 50 days) and the width of the Gaussian within the window (we chose 10 days):"
   ]
  },
  {
   "cell_type": "code",
   "execution_count": null,
   "metadata": {},
   "outputs": [],
   "source": [
    "daily.rolling(50, center=True,\n",
    "              win_type='gaussian').sum(std=10).plot(style=[':', '--', '-']);"
   ]
  },
  {
   "cell_type": "markdown",
   "metadata": {},
   "source": [
    "### Digging into the data\n",
    "\n",
    "While these smoothed data views are useful to get an idea of the general trend in the data, they hide much of the interesting structure.\n",
    "For example, we might want to look at the average traffic as a function of the time of day.\n",
    "We can do this using the GroupBy functionality discussed in [Aggregation and Grouping](03.08-Aggregation-and-Grouping.ipynb):"
   ]
  },
  {
   "cell_type": "code",
   "execution_count": null,
   "metadata": {},
   "outputs": [],
   "source": [
    "by_time = data.groupby(data.index.time).mean()\n",
    "hourly_ticks = 4 * 60 * 60 * np.arange(6)\n",
    "by_time.plot(xticks=hourly_ticks, style=[':', '--', '-']);"
   ]
  },
  {
   "cell_type": "markdown",
   "metadata": {},
   "source": [
    "The hourly traffic is a strongly bimodal distribution, with peaks around 8:00 in the morning and 5:00 in the evening.\n",
    "This is likely evidence of a strong component of commuter traffic crossing the bridge.\n",
    "This is further evidenced by the differences between the western sidewalk (generally used going toward downtown Seattle), which peaks more strongly in the morning, and the eastern sidewalk (generally used going away from downtown Seattle), which peaks more strongly in the evening.\n",
    "\n",
    "We also might be curious about how things change based on the day of the week. Again, we can do this with a simple groupby:"
   ]
  },
  {
   "cell_type": "code",
   "execution_count": null,
   "metadata": {},
   "outputs": [],
   "source": [
    "by_weekday = data.groupby(data.index.dayofweek).mean()\n",
    "by_weekday.index = ['Mon', 'Tues', 'Wed', 'Thurs', 'Fri', 'Sat', 'Sun']\n",
    "by_weekday.plot(style=[':', '--', '-']);"
   ]
  },
  {
   "cell_type": "markdown",
   "metadata": {},
   "source": [
    "This shows a strong distinction between weekday and weekend totals, with around twice as many average riders crossing the bridge on Monday through Friday than on Saturday and Sunday.\n",
    "\n",
    "With this in mind, let's do a compound GroupBy and look at the hourly trend on weekdays versus weekends.\n",
    "We'll start by grouping by both a flag marking the weekend, and the time of day:"
   ]
  },
  {
   "cell_type": "code",
   "execution_count": null,
   "metadata": {},
   "outputs": [],
   "source": [
    "weekend = np.where(data.index.weekday < 5, 'Weekday', 'Weekend')\n",
    "by_time = data.groupby([weekend, data.index.time]).mean()"
   ]
  },
  {
   "cell_type": "markdown",
   "metadata": {},
   "source": [
    "Now we'll use some of the Matplotlib tools described in [Multiple Subplots](04.08-Multiple-Subplots.ipynb) to plot two panels side by side:"
   ]
  },
  {
   "cell_type": "code",
   "execution_count": null,
   "metadata": {},
   "outputs": [],
   "source": [
    "import matplotlib.pyplot as plt\n",
    "fig, ax = plt.subplots(1, 2, figsize=(14, 5))\n",
    "by_time.ix['Weekday'].plot(ax=ax[0], title='Weekdays',\n",
    "                           xticks=hourly_ticks, style=[':', '--', '-'])\n",
    "by_time.ix['Weekend'].plot(ax=ax[1], title='Weekends',\n",
    "                           xticks=hourly_ticks, style=[':', '--', '-']);"
   ]
  },
  {
   "cell_type": "markdown",
   "metadata": {},
   "source": [
    "The result is very interesting: we see a bimodal commute pattern during the work week, and a unimodal recreational pattern during the weekends.\n",
    "It would be interesting to dig through this data in more detail, and examine the effect of weather, temperature, time of year, and other factors on people's commuting patterns; for further discussion, see my blog post [\"Is Seattle Really Seeing an Uptick In Cycling?\"](https://jakevdp.github.io/blog/2014/06/10/is-seattle-really-seeing-an-uptick-in-cycling/), which uses a subset of this data.\n",
    "We will also revisit this dataset in the context of modeling in [In Depth: Linear Regression](05.06-Linear-Regression.ipynb)."
   ]
  },
  {
   "cell_type": "markdown",
   "metadata": {},
   "source": [
    "<!--NAVIGATION-->\n",
    "< [Vectorized String Operations](03.10-Working-With-Strings.ipynb) | [Contents](Index.ipynb) | [High-Performance Pandas: eval() and query()](03.12-Performance-Eval-and-Query.ipynb) >"
   ]
  }
 ],
 "metadata": {
  "anaconda-cloud": {},
  "kernelspec": {
   "display_name": "Python 3",
   "language": "python",
   "name": "python3"
  },
  "language_info": {
   "codemirror_mode": {
    "name": "ipython",
    "version": 3
   },
   "file_extension": ".py",
   "mimetype": "text/x-python",
   "name": "python",
   "nbconvert_exporter": "python",
   "pygments_lexer": "ipython3",
   "version": "3.6.2"
  }
 },
 "nbformat": 4,
 "nbformat_minor": 1
}
