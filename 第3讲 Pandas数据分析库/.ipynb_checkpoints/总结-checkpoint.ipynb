{
 "cells": [
  {
   "attachments": {},
   "cell_type": "markdown",
   "metadata": {},
   "source": [
    "# 总结使用注意：\n",
    "0. 区分三种语法：a. 模块.函数名，如pd.read_csv,np.sum，以及Python的内置函数，如len；b. 对象名.方法名，如某df.to_csv方法；对象名.属性名，如某df.index、df.loc。\n",
    "1. Pandas对象是增强版的NumPy结构化数组，行列都不再只是简单的整数索引，还可以带上标签。\n",
    "2. 与Numpy之于列表一样，Pandas ``Series`` 的类型信息使得它在某些操作上比Python 的字典更高效。Series可以由Numpy数组、列表、标量、字典来创建（前三者可以指定index）。\n",
    "3. Pandas ``DataFrame``就可以看作是一种既有**灵活的行索引**，又有**灵活的列名字**的二维数组，且提供了一些增强的功能。\n",
    "4. **注意：在NumPy的二维数组data里，``data[0]``返回第0行；而在``DataFrame``data中，``data['第0列名']``返回第0列。**\n",
    "5. 存取数据时，要熟练掌握loc（显式索引）和iloc（整数的隐式索引），此外，第2讲Numpy中介绍的切片、掩码和花哨的索引操作也同样用在Pandas中。\n",
    "6. 当人们用现实世界的数据解决问题时，**合并和清洗脏乱的数据**是十分常见的任务。在3.8.6美国各州的统计数据里,主要需求是合并三个DataFrame，求美国各州的人口密度，但由于不同表格里的同一个含义的两列列名不同、有的行里含有缺失值、有的行不需要，我们需要不断地应用Pandas的方法去查看数据，并执行批量的处理（使用到的方法有：merge, isnull及其掩码操作与花哨索引, any, unique, dropna, sort_values, head, tail等。\n",
    "7. 我们要习惯一个向量化语句的写作习惯，从左到右读，调用一个数据对象的方法，返回下一个数据对象，再调用该数据对象的方法，......。比如，分组聚合：df.groupby('要分组的列')['要计算的列'].聚合函数()。"
   ]
  },
  {
   "cell_type": "code",
   "execution_count": null,
   "metadata": {},
   "outputs": [],
   "source": []
  }
 ],
 "metadata": {
  "kernelspec": {
   "display_name": "Python 3",
   "language": "python",
   "name": "python3"
  },
  "language_info": {
   "codemirror_mode": {
    "name": "ipython",
    "version": 3
   },
   "file_extension": ".py",
   "mimetype": "text/x-python",
   "name": "python",
   "nbconvert_exporter": "python",
   "pygments_lexer": "ipython3",
   "version": "3.6.2"
  }
 },
 "nbformat": 4,
 "nbformat_minor": 2
}
