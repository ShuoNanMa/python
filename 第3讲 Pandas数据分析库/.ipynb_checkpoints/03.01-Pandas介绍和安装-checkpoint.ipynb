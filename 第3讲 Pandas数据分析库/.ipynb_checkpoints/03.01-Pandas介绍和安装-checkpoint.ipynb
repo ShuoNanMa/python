{
 "cells": [
  {
   "cell_type": "markdown",
   "metadata": {},
   "source": [
    "<!--NAVIGATION-->\n",
    "< [Structured Data: NumPy's Structured Arrays](02.09-Structured-Data-NumPy.ipynb) | [Contents](Index.ipynb) | [Introducing Pandas Objects](03.01-Introducing-Pandas-Objects.ipynb) >"
   ]
  },
  {
   "cell_type": "markdown",
   "metadata": {},
   "source": [
    "# Pandas数据处理"
   ]
  },
  {
   "cell_type": "markdown",
   "metadata": {},
   "source": [
    "下面，我们将基于前面的知识，深入学习Pandas（Python Data Analysis Library）程序库提供的数据结构。Pandas是**在NumPy基础上**建立的新程序库，提供了一种高效的``DataFrame``数据结构。``DataFrame``本质上是一种**带行标签和列标签、支持不同类型数据和缺失值的多维数组**。 Pandas为带各种标签的数据提供了**便利的存储界面**，此外，还支持对数据库框架和电子表格程序的操作。\n",
    "\n",
    "如前所述，NumPy的``ndarray``数据结构为数值计算中常见的组织良好的数据提供了许多不可或缺的功能。虽然它在这方面做得很好，但是当我们需要处理**更灵活的**数据任务（如**为数据添加标签、处理缺失值**等），或者需要做一些**不是**对每个元素都进行广播映射的计算（如分组、透视表等）时，NumPy的限制就非常明显了，而这些都是分析各种**非结构化数据**时很重要的一部分。建立在 NumPy 数组结构上的Pandas，尤其是它的``Series``和``DataFrame``对象，为数据科学家们处理那些消耗大量时间的“数据清理”（data munging）任务提供了捷径。\n",
    "\n",
    "本章将重点介绍``Series``, ``DataFrame``和其他相关数据结构的高效使用方法。我们会酌情使用真实数据集作为演示示例，但这些示例本身并不是学习重点。"
   ]
  },
  {
   "cell_type": "markdown",
   "metadata": {},
   "source": [
    "## 安装并使用Pandas\n",
    "\n",
    "在安装Pandas之前，确保你的操作系统中有NumPy。如果你是从源代码直接编译，那么还需要相应的工具编译建立Pandas所需的C语言与Cython代码。详细的安装方法，请参考Pandas官方文档（http://pandas.pydata.org/ ）。如果你按照前言的建议使用了Anaconda，那么Pandas就已经安装好了。\n",
    "\n",
    "Pandas 安装好之后，可以导入它检查一下版本号："
   ]
  },
  {
   "cell_type": "code",
   "execution_count": 1,
   "metadata": {},
   "outputs": [
    {
     "data": {
      "text/plain": [
       "'0.25.1'"
      ]
     },
     "execution_count": 1,
     "metadata": {},
     "output_type": "execute_result"
    }
   ],
   "source": [
    "import pandas\n",
    "pandas.__version__"
   ]
  },
  {
   "cell_type": "markdown",
   "metadata": {},
   "source": [
    "和之前导入NumPy并使用别名``np``一样，我们将导入Pandas并使用别名``pd``："
   ]
  },
  {
   "cell_type": "code",
   "execution_count": 2,
   "metadata": {},
   "outputs": [],
   "source": [
    "import pandas as pd"
   ]
  },
  {
   "cell_type": "markdown",
   "metadata": {},
   "source": [
    "## 关于显示内置文档的提醒\n",
    "\n",
    "可以通过按下``Tab``键显示pandas命名空间的所有内容：\n",
    "\n",
    "```ipython\n",
    "In [3]: pd.<TAB>\n",
    "```\n",
    "\n",
    "如果要显示 Pandas 的内置文档，可以这样做：\n",
    "\n",
    "```ipython\n",
    "In [4]: pd?\n",
    "```\n",
    "\n",
    "详细的文档请参考 http://pandas.pydata.org/"
   ]
  },
  {
   "cell_type": "markdown",
   "metadata": {},
   "source": [
    "<!--NAVIGATION-->\n",
    "< [Structured Data: NumPy's Structured Arrays](02.09-Structured-Data-NumPy.ipynb) | [Contents](Index.ipynb) | [Introducing Pandas Objects](03.01-Introducing-Pandas-Objects.ipynb) >"
   ]
  }
 ],
 "metadata": {
  "anaconda-cloud": {},
  "kernelspec": {
   "display_name": "Python 3",
   "language": "python",
   "name": "python3"
  },
  "language_info": {
   "codemirror_mode": {
    "name": "ipython",
    "version": 3
   },
   "file_extension": ".py",
   "mimetype": "text/x-python",
   "name": "python",
   "nbconvert_exporter": "python",
   "pygments_lexer": "ipython3",
   "version": "3.6.2"
  }
 },
 "nbformat": 4,
 "nbformat_minor": 1
}
