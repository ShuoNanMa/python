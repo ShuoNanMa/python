{
 "cells": [
  {
   "cell_type": "markdown",
   "metadata": {},
   "source": [
    "<!--NAVIGATION-->\n",
    "< [High-Performance Pandas: eval() and query()](03.12-Performance-Eval-and-Query.ipynb) | [Contents](Index.ipynb) | [Visualization with Matplotlib](04.00-Introduction-To-Matplotlib.ipynb) >"
   ]
  },
  {
   "cell_type": "markdown",
   "metadata": {},
   "source": [
    "# 3.14 参考资料"
   ]
  },
  {
   "cell_type": "markdown",
   "metadata": {},
   "source": [
    "在这一章中，我们介绍了许多关于如何通过Pandas实现高效数据分析的基础知识。但因篇幅有限，仍有许多知识无法介绍到。如果你想学习更多的Pandas知识，推荐参考下面的资源。\n",
    "\n",
    "- [Pandas在线文档](http://pandas.pydata.org/): 这是Pandas程序包最详细的文档。虽然文档中的示例都是在处理小数据集，但是它们内容完整、功能全面，对于理解各种函数非常有用。\n",
    "\n",
    "- [*Python for Data Analysis*](http://shop.oreilly.com/product/0636920023784.do) 这是 Wes McKinney（Pandas 创建者）的著作，里面介绍了许多本章没有介绍的 Pandas知识，非常详细。值得一提的是，由于作者曾经是一名金融分析师，因此他深刻论述了用Pandas处理时间序列的工具。这本书中还有许多有趣的示例，通过Pandas探索真实数据集的规律。但需要注意的是，由于这本书已经有些年头，而Pandas程序包作为开源项目，发展速度很快，所以许多新特性书中并没有介绍。\n",
    "\n",
    "- [Stack Overﬂow网站的Pandas话题](http://stackoverflow.com/questions/tagged/pandas): Pandas的用户很多，只有你有问题，就可以到Stack Overﬂow上看看别人是不是已经问过同样的问题。使用Pandas的过程中，搜索引擎也必不可少。在你最喜欢的搜索引擎中敲入遇到的问题或异常，可能会得到比Stack Overﬂow上更多的答案。\n",
    "\n",
    "- [PyVideo上关于Pandas的教学视频](http://pyvideo.org/search?q=pandas):从PyCon到SciPy再到PyData，许多会议都有Pandas开发者和专家分享的教程。PyCon的教程特别受欢迎，好评最多。\n",
    "\n",
    "希望通过本章的内容和这些资源，可以让你学会如何通过Pandas解决工作中遇到的所有数据分析问题！"
   ]
  },
  {
   "cell_type": "markdown",
   "metadata": {},
   "source": [
    "<!--NAVIGATION-->\n",
    "< [High-Performance Pandas: eval() and query()](03.12-Performance-Eval-and-Query.ipynb) | [Contents](Index.ipynb) | [Visualization with Matplotlib](04.00-Introduction-To-Matplotlib.ipynb) >"
   ]
  }
 ],
 "metadata": {
  "anaconda-cloud": {},
  "kernelspec": {
   "display_name": "Python 3",
   "language": "python",
   "name": "python3"
  },
  "language_info": {
   "codemirror_mode": {
    "name": "ipython",
    "version": 3
   },
   "file_extension": ".py",
   "mimetype": "text/x-python",
   "name": "python",
   "nbconvert_exporter": "python",
   "pygments_lexer": "ipython3",
   "version": "3.7.4"
  }
 },
 "nbformat": 4,
 "nbformat_minor": 1
}
