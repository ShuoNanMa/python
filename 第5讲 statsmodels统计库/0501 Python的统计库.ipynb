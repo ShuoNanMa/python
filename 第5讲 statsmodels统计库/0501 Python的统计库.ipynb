{
 "cells": [
  {
   "cell_type": "markdown",
   "metadata": {},
   "source": [
    "# 5.1 statsmodels库\n",
    "Python提供了基础的统计模型的库statsmodels， 可支持基本的统计分析。由于统计模型种类繁多，它的官网上（http://www.statsmodels.org/stable/index.html） 分章节介绍了各种统计模型的操作。"
   ]
  },
  {
   "cell_type": "code",
   "execution_count": null,
   "metadata": {},
   "outputs": [],
   "source": [
    "import statsmodels.api as sm #导入统计模型的API（应用编程接口）"
   ]
  }
 ],
 "metadata": {
  "kernelspec": {
   "display_name": "Python 3",
   "language": "python",
   "name": "python3"
  },
  "language_info": {
   "codemirror_mode": {
    "name": "ipython",
    "version": 3
   },
   "file_extension": ".py",
   "mimetype": "text/x-python",
   "name": "python",
   "nbconvert_exporter": "python",
   "pygments_lexer": "ipython3",
   "version": "3.6.2"
  }
 },
 "nbformat": 4,
 "nbformat_minor": 2
}
